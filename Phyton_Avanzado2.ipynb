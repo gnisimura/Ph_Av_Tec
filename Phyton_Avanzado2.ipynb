{
  "nbformat": 4,
  "nbformat_minor": 0,
  "metadata": {
    "colab": {
      "provenance": [],
      "authorship_tag": "ABX9TyOTU43A5/rSau8xnOX+uUZ2",
      "include_colab_link": true
    },
    "kernelspec": {
      "name": "python3",
      "display_name": "Python 3"
    },
    "language_info": {
      "name": "python"
    },
    "widgets": {
      "application/vnd.jupyter.widget-state+json": {
        "1fead5f6e6354b9296dca93f8920ae5b": {
          "model_module": "@jupyter-widgets/controls",
          "model_name": "FloatTextModel",
          "model_module_version": "1.5.0",
          "state": {
            "_dom_classes": [],
            "_model_module": "@jupyter-widgets/controls",
            "_model_module_version": "1.5.0",
            "_model_name": "FloatTextModel",
            "_view_count": null,
            "_view_module": "@jupyter-widgets/controls",
            "_view_module_version": "1.5.0",
            "_view_name": "FloatTextView",
            "continuous_update": false,
            "description": "Precio Venta:",
            "description_tooltip": null,
            "disabled": false,
            "layout": "IPY_MODEL_756e83db33ee4df1ad347c029870af07",
            "step": null,
            "style": "IPY_MODEL_66bb18390f504caf95c1bb2a3270c08e",
            "value": 0
          }
        },
        "756e83db33ee4df1ad347c029870af07": {
          "model_module": "@jupyter-widgets/base",
          "model_name": "LayoutModel",
          "model_module_version": "1.2.0",
          "state": {
            "_model_module": "@jupyter-widgets/base",
            "_model_module_version": "1.2.0",
            "_model_name": "LayoutModel",
            "_view_count": null,
            "_view_module": "@jupyter-widgets/base",
            "_view_module_version": "1.2.0",
            "_view_name": "LayoutView",
            "align_content": null,
            "align_items": null,
            "align_self": null,
            "border": null,
            "bottom": null,
            "display": null,
            "flex": null,
            "flex_flow": null,
            "grid_area": null,
            "grid_auto_columns": null,
            "grid_auto_flow": null,
            "grid_auto_rows": null,
            "grid_column": null,
            "grid_gap": null,
            "grid_row": null,
            "grid_template_areas": null,
            "grid_template_columns": null,
            "grid_template_rows": null,
            "height": null,
            "justify_content": null,
            "justify_items": null,
            "left": null,
            "margin": null,
            "max_height": null,
            "max_width": null,
            "min_height": null,
            "min_width": null,
            "object_fit": null,
            "object_position": null,
            "order": null,
            "overflow": null,
            "overflow_x": null,
            "overflow_y": null,
            "padding": null,
            "right": null,
            "top": null,
            "visibility": null,
            "width": null
          }
        },
        "66bb18390f504caf95c1bb2a3270c08e": {
          "model_module": "@jupyter-widgets/controls",
          "model_name": "DescriptionStyleModel",
          "model_module_version": "1.5.0",
          "state": {
            "_model_module": "@jupyter-widgets/controls",
            "_model_module_version": "1.5.0",
            "_model_name": "DescriptionStyleModel",
            "_view_count": null,
            "_view_module": "@jupyter-widgets/base",
            "_view_module_version": "1.2.0",
            "_view_name": "StyleView",
            "description_width": ""
          }
        },
        "88f1eeaa91aa4e3689b3772977ffc8f5": {
          "model_module": "@jupyter-widgets/controls",
          "model_name": "FloatTextModel",
          "model_module_version": "1.5.0",
          "state": {
            "_dom_classes": [],
            "_model_module": "@jupyter-widgets/controls",
            "_model_module_version": "1.5.0",
            "_model_name": "FloatTextModel",
            "_view_count": null,
            "_view_module": "@jupyter-widgets/controls",
            "_view_module_version": "1.5.0",
            "_view_name": "FloatTextView",
            "continuous_update": false,
            "description": "Costo Producto:",
            "description_tooltip": null,
            "disabled": false,
            "layout": "IPY_MODEL_7e7b8545470344d096886f40e54fa40b",
            "step": null,
            "style": "IPY_MODEL_9269e3cc24fe4075a83c186786bf0ac7",
            "value": 0
          }
        },
        "7e7b8545470344d096886f40e54fa40b": {
          "model_module": "@jupyter-widgets/base",
          "model_name": "LayoutModel",
          "model_module_version": "1.2.0",
          "state": {
            "_model_module": "@jupyter-widgets/base",
            "_model_module_version": "1.2.0",
            "_model_name": "LayoutModel",
            "_view_count": null,
            "_view_module": "@jupyter-widgets/base",
            "_view_module_version": "1.2.0",
            "_view_name": "LayoutView",
            "align_content": null,
            "align_items": null,
            "align_self": null,
            "border": null,
            "bottom": null,
            "display": null,
            "flex": null,
            "flex_flow": null,
            "grid_area": null,
            "grid_auto_columns": null,
            "grid_auto_flow": null,
            "grid_auto_rows": null,
            "grid_column": null,
            "grid_gap": null,
            "grid_row": null,
            "grid_template_areas": null,
            "grid_template_columns": null,
            "grid_template_rows": null,
            "height": null,
            "justify_content": null,
            "justify_items": null,
            "left": null,
            "margin": null,
            "max_height": null,
            "max_width": null,
            "min_height": null,
            "min_width": null,
            "object_fit": null,
            "object_position": null,
            "order": null,
            "overflow": null,
            "overflow_x": null,
            "overflow_y": null,
            "padding": null,
            "right": null,
            "top": null,
            "visibility": null,
            "width": null
          }
        },
        "9269e3cc24fe4075a83c186786bf0ac7": {
          "model_module": "@jupyter-widgets/controls",
          "model_name": "DescriptionStyleModel",
          "model_module_version": "1.5.0",
          "state": {
            "_model_module": "@jupyter-widgets/controls",
            "_model_module_version": "1.5.0",
            "_model_name": "DescriptionStyleModel",
            "_view_count": null,
            "_view_module": "@jupyter-widgets/base",
            "_view_module_version": "1.2.0",
            "_view_name": "StyleView",
            "description_width": ""
          }
        },
        "087af7052df644e4b18a31c78d10877a": {
          "model_module": "@jupyter-widgets/controls",
          "model_name": "FloatTextModel",
          "model_module_version": "1.5.0",
          "state": {
            "_dom_classes": [],
            "_model_module": "@jupyter-widgets/controls",
            "_model_module_version": "1.5.0",
            "_model_name": "FloatTextModel",
            "_view_count": null,
            "_view_module": "@jupyter-widgets/controls",
            "_view_module_version": "1.5.0",
            "_view_name": "FloatTextView",
            "continuous_update": false,
            "description": "Cantidad:",
            "description_tooltip": null,
            "disabled": false,
            "layout": "IPY_MODEL_4423723c98f3444a96118387a10aef28",
            "step": null,
            "style": "IPY_MODEL_7e3fb83e9de845719f4e74a38245007c",
            "value": 0
          }
        },
        "4423723c98f3444a96118387a10aef28": {
          "model_module": "@jupyter-widgets/base",
          "model_name": "LayoutModel",
          "model_module_version": "1.2.0",
          "state": {
            "_model_module": "@jupyter-widgets/base",
            "_model_module_version": "1.2.0",
            "_model_name": "LayoutModel",
            "_view_count": null,
            "_view_module": "@jupyter-widgets/base",
            "_view_module_version": "1.2.0",
            "_view_name": "LayoutView",
            "align_content": null,
            "align_items": null,
            "align_self": null,
            "border": null,
            "bottom": null,
            "display": null,
            "flex": null,
            "flex_flow": null,
            "grid_area": null,
            "grid_auto_columns": null,
            "grid_auto_flow": null,
            "grid_auto_rows": null,
            "grid_column": null,
            "grid_gap": null,
            "grid_row": null,
            "grid_template_areas": null,
            "grid_template_columns": null,
            "grid_template_rows": null,
            "height": null,
            "justify_content": null,
            "justify_items": null,
            "left": null,
            "margin": null,
            "max_height": null,
            "max_width": null,
            "min_height": null,
            "min_width": null,
            "object_fit": null,
            "object_position": null,
            "order": null,
            "overflow": null,
            "overflow_x": null,
            "overflow_y": null,
            "padding": null,
            "right": null,
            "top": null,
            "visibility": null,
            "width": null
          }
        },
        "7e3fb83e9de845719f4e74a38245007c": {
          "model_module": "@jupyter-widgets/controls",
          "model_name": "DescriptionStyleModel",
          "model_module_version": "1.5.0",
          "state": {
            "_model_module": "@jupyter-widgets/controls",
            "_model_module_version": "1.5.0",
            "_model_name": "DescriptionStyleModel",
            "_view_count": null,
            "_view_module": "@jupyter-widgets/base",
            "_view_module_version": "1.2.0",
            "_view_name": "StyleView",
            "description_width": ""
          }
        },
        "36a6c6c143a64a4ca2e7ccabb82cdbc6": {
          "model_module": "@jupyter-widgets/controls",
          "model_name": "ButtonModel",
          "model_module_version": "1.5.0",
          "state": {
            "_dom_classes": [],
            "_model_module": "@jupyter-widgets/controls",
            "_model_module_version": "1.5.0",
            "_model_name": "ButtonModel",
            "_view_count": null,
            "_view_module": "@jupyter-widgets/controls",
            "_view_module_version": "1.5.0",
            "_view_name": "ButtonView",
            "button_style": "",
            "description": "Calcular Ganancia",
            "disabled": false,
            "icon": "",
            "layout": "IPY_MODEL_67bbc5b19a8d44bdb44bbf006b764dd7",
            "style": "IPY_MODEL_b59445feb08e413d92c4244c18b74cf5",
            "tooltip": ""
          }
        },
        "67bbc5b19a8d44bdb44bbf006b764dd7": {
          "model_module": "@jupyter-widgets/base",
          "model_name": "LayoutModel",
          "model_module_version": "1.2.0",
          "state": {
            "_model_module": "@jupyter-widgets/base",
            "_model_module_version": "1.2.0",
            "_model_name": "LayoutModel",
            "_view_count": null,
            "_view_module": "@jupyter-widgets/base",
            "_view_module_version": "1.2.0",
            "_view_name": "LayoutView",
            "align_content": null,
            "align_items": null,
            "align_self": null,
            "border": null,
            "bottom": null,
            "display": null,
            "flex": null,
            "flex_flow": null,
            "grid_area": null,
            "grid_auto_columns": null,
            "grid_auto_flow": null,
            "grid_auto_rows": null,
            "grid_column": null,
            "grid_gap": null,
            "grid_row": null,
            "grid_template_areas": null,
            "grid_template_columns": null,
            "grid_template_rows": null,
            "height": null,
            "justify_content": null,
            "justify_items": null,
            "left": null,
            "margin": null,
            "max_height": null,
            "max_width": null,
            "min_height": null,
            "min_width": null,
            "object_fit": null,
            "object_position": null,
            "order": null,
            "overflow": null,
            "overflow_x": null,
            "overflow_y": null,
            "padding": null,
            "right": null,
            "top": null,
            "visibility": null,
            "width": null
          }
        },
        "b59445feb08e413d92c4244c18b74cf5": {
          "model_module": "@jupyter-widgets/controls",
          "model_name": "ButtonStyleModel",
          "model_module_version": "1.5.0",
          "state": {
            "_model_module": "@jupyter-widgets/controls",
            "_model_module_version": "1.5.0",
            "_model_name": "ButtonStyleModel",
            "_view_count": null,
            "_view_module": "@jupyter-widgets/base",
            "_view_module_version": "1.2.0",
            "_view_name": "StyleView",
            "button_color": null,
            "font_weight": ""
          }
        },
        "2ca76f9fa9594ba0b58e65c3780abe5c": {
          "model_module": "@jupyter-widgets/output",
          "model_name": "OutputModel",
          "model_module_version": "1.0.0",
          "state": {
            "_dom_classes": [],
            "_model_module": "@jupyter-widgets/output",
            "_model_module_version": "1.0.0",
            "_model_name": "OutputModel",
            "_view_count": null,
            "_view_module": "@jupyter-widgets/output",
            "_view_module_version": "1.0.0",
            "_view_name": "OutputView",
            "layout": "IPY_MODEL_cc245654e5044963aee4b2b76db25718",
            "msg_id": "",
            "outputs": []
          }
        },
        "cc245654e5044963aee4b2b76db25718": {
          "model_module": "@jupyter-widgets/base",
          "model_name": "LayoutModel",
          "model_module_version": "1.2.0",
          "state": {
            "_model_module": "@jupyter-widgets/base",
            "_model_module_version": "1.2.0",
            "_model_name": "LayoutModel",
            "_view_count": null,
            "_view_module": "@jupyter-widgets/base",
            "_view_module_version": "1.2.0",
            "_view_name": "LayoutView",
            "align_content": null,
            "align_items": null,
            "align_self": null,
            "border": null,
            "bottom": null,
            "display": null,
            "flex": null,
            "flex_flow": null,
            "grid_area": null,
            "grid_auto_columns": null,
            "grid_auto_flow": null,
            "grid_auto_rows": null,
            "grid_column": null,
            "grid_gap": null,
            "grid_row": null,
            "grid_template_areas": null,
            "grid_template_columns": null,
            "grid_template_rows": null,
            "height": null,
            "justify_content": null,
            "justify_items": null,
            "left": null,
            "margin": null,
            "max_height": null,
            "max_width": null,
            "min_height": null,
            "min_width": null,
            "object_fit": null,
            "object_position": null,
            "order": null,
            "overflow": null,
            "overflow_x": null,
            "overflow_y": null,
            "padding": null,
            "right": null,
            "top": null,
            "visibility": null,
            "width": null
          }
        }
      }
    }
  },
  "cells": [
    {
      "cell_type": "markdown",
      "metadata": {
        "id": "view-in-github",
        "colab_type": "text"
      },
      "source": [
        "<a href=\"https://colab.research.google.com/github/gnisimura/Ph_Av_Tec/blob/main/Phyton_Avanzado2.ipynb\" target=\"_parent\"><img src=\"https://colab.research.google.com/assets/colab-badge.svg\" alt=\"Open In Colab\"/></a>"
      ]
    },
    {
      "cell_type": "markdown",
      "source": [
        "#1. Ejemplo Básico Empresa"
      ],
      "metadata": {
        "id": "dexQgmP0qCZq"
      }
    },
    {
      "cell_type": "code",
      "source": [
        "import ipywidgets as widgets\n",
        "from IPython.display import display, clear_output\n",
        "\n",
        "precio_venta=widgets.FloatText(description=\"Precio Venta:\")\n",
        "costo_producto=widgets.FloatText(description=\"Costo Producto:\")\n",
        "cantidad_vendida=widgets.FloatText(description=\"Cantidad:\")\n",
        "\n",
        "boton_calcular=widgets.Button(description=\"Calcular Ganancia\")\n",
        "salida=widgets.Output()\n",
        "\n",
        "def calcular_ganancia(b):\n",
        "  with salida:\n",
        "    clear_output()\n",
        "\n",
        "    pv=precio_venta.value\n",
        "    cp=costo_producto.value\n",
        "    q=cantidad_vendida.value\n",
        "\n",
        "    if cp>pv:\n",
        "      print(\"Advertencia: estas vendiendo con pérdidas!\")\n",
        "    margen_unitario=pv-cp\n",
        "    ganancia_total=margen_unitario*q\n",
        "\n",
        "    if pv!=0:\n",
        "      porcentaje_ganancia=(margen_unitario/pv)*100\n",
        "    else:\n",
        "      porcentaje_ganancia=0\n",
        "\n",
        "    print(f\"El margen unitario es: ${margen_unitario:.2f}\")\n",
        "    print(f\"La ganancia total es: ${ganancia_total:.2f}\")\n",
        "    print(f\"El porcentaje de ganancia es: {porcentaje_ganancia:.2f}\")\n",
        "\n",
        "boton_calcular.on_click(calcular_ganancia)\n",
        "display(precio_venta,costo_producto,cantidad_vendida,boton_calcular,salida)"
      ],
      "metadata": {
        "colab": {
          "base_uri": "https://localhost:8080/",
          "height": 142,
          "referenced_widgets": [
            "1fead5f6e6354b9296dca93f8920ae5b",
            "756e83db33ee4df1ad347c029870af07",
            "66bb18390f504caf95c1bb2a3270c08e",
            "88f1eeaa91aa4e3689b3772977ffc8f5",
            "7e7b8545470344d096886f40e54fa40b",
            "9269e3cc24fe4075a83c186786bf0ac7",
            "087af7052df644e4b18a31c78d10877a",
            "4423723c98f3444a96118387a10aef28",
            "7e3fb83e9de845719f4e74a38245007c",
            "36a6c6c143a64a4ca2e7ccabb82cdbc6",
            "67bbc5b19a8d44bdb44bbf006b764dd7",
            "b59445feb08e413d92c4244c18b74cf5",
            "2ca76f9fa9594ba0b58e65c3780abe5c",
            "cc245654e5044963aee4b2b76db25718"
          ]
        },
        "id": "_WmoLan_qmWg",
        "outputId": "aa644316-0755-41d2-82cd-a49fe91cd771"
      },
      "execution_count": null,
      "outputs": [
        {
          "output_type": "display_data",
          "data": {
            "text/plain": [
              "FloatText(value=0.0, description='Precio Venta:')"
            ],
            "application/vnd.jupyter.widget-view+json": {
              "version_major": 2,
              "version_minor": 0,
              "model_id": "1fead5f6e6354b9296dca93f8920ae5b"
            }
          },
          "metadata": {}
        },
        {
          "output_type": "display_data",
          "data": {
            "text/plain": [
              "FloatText(value=0.0, description='Costo Producto:')"
            ],
            "application/vnd.jupyter.widget-view+json": {
              "version_major": 2,
              "version_minor": 0,
              "model_id": "88f1eeaa91aa4e3689b3772977ffc8f5"
            }
          },
          "metadata": {}
        },
        {
          "output_type": "display_data",
          "data": {
            "text/plain": [
              "FloatText(value=0.0, description='Cantidad:')"
            ],
            "application/vnd.jupyter.widget-view+json": {
              "version_major": 2,
              "version_minor": 0,
              "model_id": "087af7052df644e4b18a31c78d10877a"
            }
          },
          "metadata": {}
        },
        {
          "output_type": "display_data",
          "data": {
            "text/plain": [
              "Button(description='Calcular Ganancia', style=ButtonStyle())"
            ],
            "application/vnd.jupyter.widget-view+json": {
              "version_major": 2,
              "version_minor": 0,
              "model_id": "36a6c6c143a64a4ca2e7ccabb82cdbc6"
            }
          },
          "metadata": {}
        },
        {
          "output_type": "display_data",
          "data": {
            "text/plain": [
              "Output()"
            ],
            "application/vnd.jupyter.widget-view+json": {
              "version_major": 2,
              "version_minor": 0,
              "model_id": "2ca76f9fa9594ba0b58e65c3780abe5c"
            }
          },
          "metadata": {}
        }
      ]
    },
    {
      "cell_type": "markdown",
      "source": [
        "#2. Creación de Base de Datos CSV\n",
        "\n"
      ],
      "metadata": {
        "id": "GD-5PzIfqJsD"
      }
    },
    {
      "cell_type": "code",
      "source": [
        "#1 Importar las librerias\n",
        "import ipywidgets as widgets\n",
        "from IPython.display import display, clear_output\n",
        "import pandas as pd\n",
        "import os\n",
        "\n",
        "#2. Nombre del archivo\n",
        "archivo_csv=\"analisis_productos.csv\"\n",
        "\n",
        "#3. Crear el archivo (¡Autonomous Databases!)\n",
        "\n",
        "if not os.path.isfile(archivo_csv):\n",
        "  columnas=[\"nombre_producto\",\"precio_venta\",\"costo\",\"cantidad\",\"margen_unitario\",\"ganancia total\",\"porcentaje_ganancia\",\"recomendacion\"]\n",
        "  df_vacio=pd.DataFrame(columns=columnas)\n",
        "  df_vacio.to_csv(archivo_csv,index=False)\n",
        "\n",
        "#4. Widgets de Entrada\n",
        "nombre_producto=widgets.Text(description=\" Producto:\")\n",
        "precio_venta=widgets.FloatText(description=\"Precio Venta:\")\n",
        "\n",
        "costo_producto=widgets.FloatText(description=\"Costo:\")\n",
        "cantidad_vendida=widgets.FloatText(description=\"Cantidad:\")\n",
        "\n",
        "boton_calcular=widgets.Button(description=\"Analizar producto\")\n",
        "boton_historial=widgets.Button(description=\"Ver historial\")\n",
        "\n",
        "salida=widgets.Output()\n",
        "\n",
        "#5. Función para analizar y guardar el CSV\n",
        "\n",
        "def analizar_producto(b):\n",
        "  with salida:\n",
        "    clear_output()\n",
        "\n",
        "    nombre=nombre_producto.value.strip()\n",
        "    pv=precio_venta.value\n",
        "    cp=costo_producto.value\n",
        "    q=cantidad_vendida.value\n",
        "\n",
        "    if not nombre or pv<=0 or cp<0 or q<0:\n",
        "      print(\"Error: Completa los campos correctamente\")\n",
        "      return\n",
        "\n",
        "    margen_unitario=pv-cp\n",
        "    ganancia_total=margen_unitario*q\n",
        "    porcentaje_ganancia=(margen_unitario/pv)*100 if pv!=0 else 0\n",
        "\n",
        "    if porcentaje_ganancia<10:\n",
        "      recomendacion=\"Margen bajo, Ajustar el precio o el costo\"\n",
        "    elif porcentaje_ganancia<30:\n",
        "      recomendacion=\"Margen moderado, Considera ajustar el precio\"\n",
        "    else:\n",
        "      recomendacion=\"Margen alto, ¡Excelente producto!\"\n",
        "    print(f\"Producto: {nombre}\")\n",
        "    print(f\"Margen por unidad: ${margen_unitario:.2f}\")\n",
        "    print(f\"Ganancia total: ${ganancia_total:.2f}\")\n",
        "    print(f\"Porcentaje de ganancia: {porcentaje_ganancia:.2f}%\")\n",
        "    print(f\"Recomendación: {recomendacion}\")\n",
        "\n",
        "    nuevo_registro={\n",
        "        \"nombre_producto\":nombre,\n",
        "        \"precio_venta\":pv,\n",
        "        \"costo\":cp,\n",
        "        \"cantidad\":q,\n",
        "        \"margen_unitario\":margen_unitario,\n",
        "        \"ganancia total\":ganancia_total,\n",
        "        \"porcentaje_ganancia\":porcentaje_ganancia,\n",
        "        \"recomendacion\":recomendacion\n",
        "    }\n",
        "    df=pd.read_csv(archivo_csv)\n",
        "    df=pd.concat([df,pd.DataFrame([nuevo_registro])],ignore_index=True)\n",
        "    df.to_csv(archivo_csv,index=False)\n",
        "\n",
        "#Display widgets and set up button clicks outside the function\n",
        "boton_calcular.on_click(analizar_producto)\n",
        "display(nombre_producto,precio_venta,costo_producto,cantidad_vendida,boton_calcular,salida)"
      ],
      "metadata": {
        "id": "tvwXnHiLzXRi"
      },
      "execution_count": null,
      "outputs": []
    },
    {
      "cell_type": "markdown",
      "source": [
        "# 3. Creación de una Base de Datos SQL"
      ],
      "metadata": {
        "id": "nNdHQzqgqN32"
      }
    },
    {
      "cell_type": "markdown",
      "source": [
        "#4. Creación de una base de datos Mongo DB"
      ],
      "metadata": {
        "id": "oxso8livqW1L"
      }
    },
    {
      "cell_type": "markdown",
      "source": [],
      "metadata": {
        "id": "ftKNfH87qR6K"
      }
    }
  ]
}